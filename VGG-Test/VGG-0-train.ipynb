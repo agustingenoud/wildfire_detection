{
 "cells": [
  {
   "cell_type": "code",
   "execution_count": 1,
   "metadata": {},
   "outputs": [],
   "source": [
    "import os\n",
    "\n",
    "import pandas as pd\n",
    "import matplotlib.pyplot as plt\n",
    "import numpy as np\n",
    "import tensorflow as tf\n",
    "from tensorflow.keras.applications import VGG16\n",
    "from tensorflow.keras.layers import Flatten\n",
    "from tensorflow.keras.layers import Dense\n",
    "from tensorflow.keras.layers import Input\n",
    "from tensorflow.keras.models import Model\n",
    "from tensorflow.keras.optimizers.legacy import Adam\n",
    "\n",
    "import config\n",
    "from utils import load_csv, format_images\n",
    "\n",
    "%matplotlib inline"
   ]
  },
  {
   "cell_type": "code",
   "execution_count": 3,
   "metadata": {},
   "outputs": [],
   "source": [
    "# LOAD train test sets\n",
    "train_rows = load_csv(config.TRAIN_CSV_PATH)\n",
    "test_rows = load_csv(config.TEST_CSV_PATH)"
   ]
  },
  {
   "cell_type": "code",
   "execution_count": 4,
   "metadata": {},
   "outputs": [],
   "source": [
    "# FORMAT images\n",
    "(train_data,\n",
    "train_targets,\n",
    "train_filenames) = format_images(train_rows, config.TRAIN_IMAGES_PATH)\n",
    "\n",
    "(test_data,\n",
    "test_targets,\n",
    "test_filenames) = format_images(test_rows, config.TEST_IMAGES_PATH)"
   ]
  },
  {
   "cell_type": "code",
   "execution_count": 5,
   "metadata": {},
   "outputs": [
    {
     "name": "stderr",
     "output_type": "stream",
     "text": [
      "2023-03-08 10:20:55.862680: I tensorflow/core/common_runtime/pluggable_device/pluggable_device_factory.cc:306] Could not identify NUMA node of platform GPU ID 0, defaulting to 0. Your kernel may not have been built with NUMA support.\n",
      "2023-03-08 10:20:55.862706: I tensorflow/core/common_runtime/pluggable_device/pluggable_device_factory.cc:272] Created TensorFlow device (/job:localhost/replica:0/task:0/device:GPU:0 with 0 MB memory) -> physical PluggableDevice (device: 0, name: METAL, pci bus id: <undefined>)\n"
     ]
    },
    {
     "name": "stdout",
     "output_type": "stream",
     "text": [
      "Metal device set to: Apple M1 Pro\n",
      "\n",
      "systemMemory: 16.00 GB\n",
      "maxCacheSize: 5.33 GB\n",
      "\n"
     ]
    }
   ],
   "source": [
    "# LOAD the VGG16 network, REMOVE head FC layers\n",
    "vgg = VGG16(weights=\"imagenet\", include_top=False,\n",
    "\tinput_tensor=Input(shape=(224, 224, 3)))\n",
    "\n",
    "# FREEZE all VGG layers\n",
    "vgg.trainable = False\n",
    "\n",
    "# FLATTEN the max-pooling output of VGG\n",
    "flatten = vgg.output\n",
    "flatten = Flatten()(flatten)\n",
    "\n",
    "# BUILD a fully-connected layer header to output\n",
    "# the predicted bounding box coordinates\n",
    "bboxHead = Dense(128, activation=\"relu\")(flatten)\n",
    "bboxHead = Dense(64, activation=\"relu\")(bboxHead)\n",
    "bboxHead = Dense(32, activation=\"relu\")(bboxHead)\n",
    "bboxHead = Dense(4, activation=\"sigmoid\")(bboxHead)\n",
    "\n",
    "# BUILD the model for fine-tune the bounding box regression\n",
    "model = Model(inputs=vgg.input, outputs=bboxHead)"
   ]
  },
  {
   "cell_type": "code",
   "execution_count": 6,
   "metadata": {},
   "outputs": [],
   "source": [
    "# MODEL outputs & hyperparamenters\n",
    "MODEL_PATH = os.path.sep.join([config.BASE_OUTPUT, \"VGG_detector.h5\"])\n",
    "PLOT_PATH = os.path.sep.join([config.BASE_OUTPUT, \"VGG_plot.png\"])\n",
    "\n",
    "INIT_LR = 1e-4\n",
    "NUM_EPOCHS = 25\n",
    "BATCH_SIZE = 32"
   ]
  },
  {
   "cell_type": "code",
   "execution_count": 7,
   "metadata": {},
   "outputs": [
    {
     "name": "stdout",
     "output_type": "stream",
     "text": [
      "Model: \"model\"\n",
      "_________________________________________________________________\n",
      " Layer (type)                Output Shape              Param #   \n",
      "=================================================================\n",
      " input_1 (InputLayer)        [(None, 224, 224, 3)]     0         \n",
      "                                                                 \n",
      " block1_conv1 (Conv2D)       (None, 224, 224, 64)      1792      \n",
      "                                                                 \n",
      " block1_conv2 (Conv2D)       (None, 224, 224, 64)      36928     \n",
      "                                                                 \n",
      " block1_pool (MaxPooling2D)  (None, 112, 112, 64)      0         \n",
      "                                                                 \n",
      " block2_conv1 (Conv2D)       (None, 112, 112, 128)     73856     \n",
      "                                                                 \n",
      " block2_conv2 (Conv2D)       (None, 112, 112, 128)     147584    \n",
      "                                                                 \n",
      " block2_pool (MaxPooling2D)  (None, 56, 56, 128)       0         \n",
      "                                                                 \n",
      " block3_conv1 (Conv2D)       (None, 56, 56, 256)       295168    \n",
      "                                                                 \n",
      " block3_conv2 (Conv2D)       (None, 56, 56, 256)       590080    \n",
      "                                                                 \n",
      " block3_conv3 (Conv2D)       (None, 56, 56, 256)       590080    \n",
      "                                                                 \n",
      " block3_pool (MaxPooling2D)  (None, 28, 28, 256)       0         \n",
      "                                                                 \n",
      " block4_conv1 (Conv2D)       (None, 28, 28, 512)       1180160   \n",
      "                                                                 \n",
      " block4_conv2 (Conv2D)       (None, 28, 28, 512)       2359808   \n",
      "                                                                 \n",
      " block4_conv3 (Conv2D)       (None, 28, 28, 512)       2359808   \n",
      "                                                                 \n",
      " block4_pool (MaxPooling2D)  (None, 14, 14, 512)       0         \n",
      "                                                                 \n",
      " block5_conv1 (Conv2D)       (None, 14, 14, 512)       2359808   \n",
      "                                                                 \n",
      " block5_conv2 (Conv2D)       (None, 14, 14, 512)       2359808   \n",
      "                                                                 \n",
      " block5_conv3 (Conv2D)       (None, 14, 14, 512)       2359808   \n",
      "                                                                 \n",
      " block5_pool (MaxPooling2D)  (None, 7, 7, 512)         0         \n",
      "                                                                 \n",
      " flatten (Flatten)           (None, 25088)             0         \n",
      "                                                                 \n",
      " dense (Dense)               (None, 128)               3211392   \n",
      "                                                                 \n",
      " dense_1 (Dense)             (None, 64)                8256      \n",
      "                                                                 \n",
      " dense_2 (Dense)             (None, 32)                2080      \n",
      "                                                                 \n",
      " dense_3 (Dense)             (None, 4)                 132       \n",
      "                                                                 \n",
      "=================================================================\n",
      "Total params: 17,936,548\n",
      "Trainable params: 3,221,860\n",
      "Non-trainable params: 14,714,688\n",
      "_________________________________________________________________\n",
      "None\n"
     ]
    }
   ],
   "source": [
    "opt = Adam(learning_rate=INIT_LR)\n",
    "model.compile(loss=\"mse\", optimizer=opt)\n",
    "print(model.summary())"
   ]
  },
  {
   "cell_type": "code",
   "execution_count": 8,
   "metadata": {},
   "outputs": [
    {
     "name": "stdout",
     "output_type": "stream",
     "text": [
      "Epoch 1/25\n"
     ]
    },
    {
     "name": "stderr",
     "output_type": "stream",
     "text": [
      "2023-03-08 10:21:32.001712: W tensorflow/tsl/platform/profile_utils/cpu_utils.cc:128] Failed to get CPU frequency: 0 Hz\n",
      "2023-03-08 10:21:32.365929: I tensorflow/core/grappler/optimizers/custom_graph_optimizer_registry.cc:114] Plugin optimizer for device_type GPU is enabled.\n"
     ]
    },
    {
     "name": "stdout",
     "output_type": "stream",
     "text": [
      "17/17 [==============================] - ETA: 0s - loss: 0.0246"
     ]
    },
    {
     "name": "stderr",
     "output_type": "stream",
     "text": [
      "2023-03-08 10:21:36.979008: I tensorflow/core/grappler/optimizers/custom_graph_optimizer_registry.cc:114] Plugin optimizer for device_type GPU is enabled.\n"
     ]
    },
    {
     "name": "stdout",
     "output_type": "stream",
     "text": [
      "17/17 [==============================] - 6s 288ms/step - loss: 0.0246 - val_loss: 0.0121\n",
      "Epoch 2/25\n",
      "17/17 [==============================] - 4s 263ms/step - loss: 0.0073 - val_loss: 0.0058\n",
      "Epoch 3/25\n",
      "17/17 [==============================] - 5s 275ms/step - loss: 0.0039 - val_loss: 0.0041\n",
      "Epoch 4/25\n",
      "17/17 [==============================] - 5s 277ms/step - loss: 0.0029 - val_loss: 0.0036\n",
      "Epoch 5/25\n",
      "17/17 [==============================] - 5s 268ms/step - loss: 0.0025 - val_loss: 0.0029\n",
      "Epoch 6/25\n",
      "17/17 [==============================] - 5s 273ms/step - loss: 0.0020 - val_loss: 0.0026\n",
      "Epoch 7/25\n",
      "17/17 [==============================] - 5s 276ms/step - loss: 0.0018 - val_loss: 0.0024\n",
      "Epoch 8/25\n",
      "17/17 [==============================] - 5s 280ms/step - loss: 0.0016 - val_loss: 0.0022\n",
      "Epoch 9/25\n",
      "17/17 [==============================] - 5s 278ms/step - loss: 0.0015 - val_loss: 0.0023\n",
      "Epoch 10/25\n",
      "17/17 [==============================] - 5s 280ms/step - loss: 0.0015 - val_loss: 0.0019\n",
      "Epoch 11/25\n",
      "17/17 [==============================] - 5s 272ms/step - loss: 0.0013 - val_loss: 0.0019\n",
      "Epoch 12/25\n",
      "17/17 [==============================] - 5s 271ms/step - loss: 0.0012 - val_loss: 0.0020\n",
      "Epoch 13/25\n",
      "17/17 [==============================] - 5s 269ms/step - loss: 0.0011 - val_loss: 0.0018\n",
      "Epoch 14/25\n",
      "17/17 [==============================] - 5s 276ms/step - loss: 0.0011 - val_loss: 0.0021\n",
      "Epoch 15/25\n",
      "17/17 [==============================] - 5s 277ms/step - loss: 0.0011 - val_loss: 0.0016\n",
      "Epoch 16/25\n",
      "17/17 [==============================] - 5s 273ms/step - loss: 9.9283e-04 - val_loss: 0.0014\n",
      "Epoch 17/25\n",
      "17/17 [==============================] - 5s 280ms/step - loss: 8.9779e-04 - val_loss: 0.0016\n",
      "Epoch 18/25\n",
      "17/17 [==============================] - 5s 276ms/step - loss: 9.4438e-04 - val_loss: 0.0015\n",
      "Epoch 19/25\n",
      "17/17 [==============================] - 5s 273ms/step - loss: 9.2440e-04 - val_loss: 0.0015\n",
      "Epoch 20/25\n",
      "17/17 [==============================] - 5s 274ms/step - loss: 8.4036e-04 - val_loss: 0.0013\n",
      "Epoch 21/25\n",
      "17/17 [==============================] - 5s 274ms/step - loss: 6.9843e-04 - val_loss: 0.0016\n",
      "Epoch 22/25\n",
      "17/17 [==============================] - 5s 274ms/step - loss: 7.3793e-04 - val_loss: 0.0014\n",
      "Epoch 23/25\n",
      "17/17 [==============================] - 5s 275ms/step - loss: 6.5492e-04 - val_loss: 0.0015\n",
      "Epoch 24/25\n",
      "17/17 [==============================] - 5s 274ms/step - loss: 6.4922e-04 - val_loss: 0.0013\n",
      "Epoch 25/25\n",
      "17/17 [==============================] - 5s 274ms/step - loss: 6.1033e-04 - val_loss: 0.0011\n"
     ]
    }
   ],
   "source": [
    "# train the network for bounding box regression\n",
    "H = model.fit(\n",
    "\ttrain_data, train_targets,\n",
    "\tvalidation_data=(test_data, test_targets),\n",
    "\tbatch_size=BATCH_SIZE,\n",
    "\tepochs=NUM_EPOCHS,\n",
    "\tverbose=1)"
   ]
  },
  {
   "cell_type": "code",
   "execution_count": 9,
   "metadata": {},
   "outputs": [
    {
     "name": "stdout",
     "output_type": "stream",
     "text": [
      "[INFO] saving object detector model...\n"
     ]
    },
    {
     "data": {
      "image/png": "[encoded data removed]",
      "text/plain": [
       "<Figure size 640x480 with 1 Axes>"
      ]
     },
     "metadata": {},
     "output_type": "display_data"
    }
   ],
   "source": [
    "# serialize the model to disk\n",
    "print(\"[INFO] saving object detector model...\")\n",
    "model.save(MODEL_PATH, save_format=\"h5\")\n",
    "# plot the model training history\n",
    "N = NUM_EPOCHS\n",
    "plt.style.use(\"ggplot\")\n",
    "plt.figure()\n",
    "plt.plot(np.arange(0, N), H.history[\"loss\"], label=\"train_loss\")\n",
    "plt.plot(np.arange(0, N), H.history[\"val_loss\"], label=\"val_loss\")\n",
    "plt.title(\"Bounding Box Regression Loss on Training Set\")\n",
    "plt.xlabel(\"Epoch #\")\n",
    "plt.ylabel(\"Loss\")\n",
    "plt.legend(loc=\"lower left\")\n",
    "plt.savefig(PLOT_PATH)"
   ]
  },
  {
   "cell_type": "code",
   "execution_count": null,
   "metadata": {},
   "outputs": [],
   "source": []
  },
  {
   "cell_type": "code",
   "execution_count": null,
   "metadata": {},
   "outputs": [],
   "source": []
  }
 ],
 "metadata": {
  "kernelspec": {
   "display_name": "sof",
   "language": "python",
   "name": "python3"
  },
  "language_info": {
   "codemirror_mode": {
    "name": "ipython",
    "version": 3
   },
   "file_extension": ".py",
   "mimetype": "text/x-python",
   "name": "python",
   "nbconvert_exporter": "python",
   "pygments_lexer": "ipython3",
   "version": "3.10.9"
  }
 },
 "nbformat": 4,
 "nbformat_minor": 2
}
